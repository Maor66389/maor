{
  "nbformat": 4,
  "nbformat_minor": 5,
  "metadata": {
    "kernelspec": {
      "display_name": "Python 3",
      "language": "python",
      "name": "python3"
    },
    "language_info": {
      "codemirror_mode": {
        "name": "ipython",
        "version": 3
      },
      "file_extension": ".py",
      "mimetype": "text/x-python",
      "name": "python",
      "nbconvert_exporter": "python",
      "pygments_lexer": "ipython3",
      "version": "3.8.8"
    },
    "colab": {
      "name": "Fashion MNIST.ipynb",
      "provenance": [],
      "include_colab_link": true
    }
  },
  "cells": [
    {
      "cell_type": "markdown",
      "metadata": {
        "id": "view-in-github",
        "colab_type": "text"
      },
      "source": [
        "<a href=\"https://colab.research.google.com/github/Maor66389/maor/blob/main/Fashion_MNIST.ipynb\" target=\"_parent\"><img src=\"https://colab.research.google.com/assets/colab-badge.svg\" alt=\"Open In Colab\"/></a>"
      ]
    },
    {
      "cell_type": "markdown",
      "metadata": {
        "id": "a5296d63"
      },
      "source": [
        "# Fashion MNIST\n",
        "<div dir=rtl>\n",
        "\n",
        "\n",
        "בתרגיל זה נשתמש בדאטה סט אשר נקרא Fashion MNIST אותו ניקח מספריית tensorflow.<br>\n",
        "הריצו את התא הבא, אם יש לכם צורך ב-imports נוספים הוסיפו אותם."
      ],
      "id": "a5296d63"
    },
    {
      "cell_type": "code",
      "metadata": {
        "id": "720a6528"
      },
      "source": [
        "import numpy as np\n",
        "import matplotlib.pyplot as plt\n",
        "\n",
        "\n",
        "import tensorflow as tf"
      ],
      "id": "720a6528",
      "execution_count": 1,
      "outputs": []
    },
    {
      "cell_type": "markdown",
      "metadata": {
        "id": "5dc239e1"
      },
      "source": [
        "<div dir=rtl>\n",
        "\n",
        "בתא הבא אנו מיבאים את הדאטה סט ומחלקים אותו לדאטה של אימון ודאטה של בחינה.<br>"
      ],
      "id": "5dc239e1"
    },
    {
      "cell_type": "code",
      "metadata": {
        "id": "2f37ee13"
      },
      "source": [
        "#יבוא של ה dataset \n",
        "fashion_mnist = tf.keras.datasets.fashion_mnist\n",
        "#חילוק לאימון ולמבחן תמונות ותיוגים\n",
        "(train_images, train_labels), (test_images, test_labels) = fashion_mnist.load_data()"
      ],
      "id": "2f37ee13",
      "execution_count": 3,
      "outputs": []
    },
    {
      "cell_type": "markdown",
      "metadata": {
        "id": "0c0ef8d9"
      },
      "source": [
        "<div dir=rtl>\n",
        "\n",
        "### ענו על השאלות הבאות ביחס לדאטה\n",
        "\n",
        "1. כמה דגימות אימון ישנן? כמה דגימות מבחן?\n",
        "2. מה גודל כל תמונה בדאטה סט?\n",
        "3. כמה לייבלז שונים ישנם ומהם?\n",
        "4. מה התפלגות הלייבלז השונים? כמה תמונות יש לכל לייבל?\n",
        "5. מה טווח הערכים בתמונה?"
      ],
      "id": "0c0ef8d9"
    },
    {
      "cell_type": "markdown",
      "metadata": {
        "id": "8jxMQQw9lPUC"
      },
      "source": [
        "\n",
        "1. ישנם 60000 דגימות אימון ו10000 דגימות מבחן\n",
        "2. כל התמונות בגודל של28*28*1\n",
        "3. יש עשרה תיוגים שונים "
      ],
      "id": "8jxMQQw9lPUC"
    },
    {
      "cell_type": "markdown",
      "metadata": {
        "id": "5649b8db"
      },
      "source": [
        "<div dir=rtl>\n",
        "\n",
        "### הצגת תמונות לדוגמא\n",
        "\n",
        "הציגו מספר תמונות לדוגמא מתוך הדאטה של האימון. הציגו בכותרת של כל תמונה את הלייבל שלה. <br>\n",
        "מומלץ להגדיר רשימה של השמות המתאימים ללייבלז ולא להשתמש רק במספור שלהם לצורך ההצגה."
      ],
      "id": "5649b8db"
    },
    {
      "cell_type": "code",
      "metadata": {
        "id": "a9c7d084"
      },
      "source": [
        ""
      ],
      "id": "a9c7d084",
      "execution_count": null,
      "outputs": []
    },
    {
      "cell_type": "markdown",
      "metadata": {
        "id": "d9644975"
      },
      "source": [
        "<div dir=rtl>\n",
        "\n",
        "### עיבוד מקדים של הדאטה\n",
        "\n",
        "לפני שנעביר את התמונות לרשת לצורך אימון, נרצה לבצע עיבוד מקדים. בדומה לדוגמא מהתרגול האחרון, נרצה לבצע scaling, להוסיף מימד לתמונות, ולהפוך את הלייבלז לקטגוריאלים."
      ],
      "id": "d9644975"
    },
    {
      "cell_type": "code",
      "metadata": {
        "id": "a0da8a6c"
      },
      "source": [
        ""
      ],
      "id": "a0da8a6c",
      "execution_count": null,
      "outputs": []
    },
    {
      "cell_type": "markdown",
      "metadata": {
        "id": "bd40ef59"
      },
      "source": [
        "<div dir=rtl>\n",
        "\n",
        "### הגדרת המודל\n",
        "\n",
        "בתא הבא הגדירו את המודל שלכם. המודל יהיה מסוג sequential וצריך לכלול מספר שכבות לבחירתכם.<br>\n",
        "שימו לב להגדיר למודל את גודל הקלט אותו הוא יקבל.<br>\n",
        "השתמשו ב-summary על מנת לראות תדפיס של המודל ולוודא את הגדלים ומספר הפרממטרים.<br>\n",
        "לאחר מכן קמפלו את המודל שלכם. זכרו להגדיר ל-compile מה פונקציית המחיר, מה שיטת האופטימיזציה ומהן מטריקות ההערכה שאתם מעוניינים בהן."
      ],
      "id": "bd40ef59"
    },
    {
      "cell_type": "code",
      "metadata": {
        "id": "df2acd4d"
      },
      "source": [
        ""
      ],
      "id": "df2acd4d",
      "execution_count": null,
      "outputs": []
    },
    {
      "cell_type": "markdown",
      "metadata": {
        "id": "a1914dc4"
      },
      "source": [
        "<div dir=rtl>\n",
        "\n",
        "\n",
        "### אימון המודל\n",
        "\n",
        "בצעו אימון למודל שלכם בתא הבא. הגדירו אחוז מסויים מהדאטה שישמש לולידציה.<br>\n",
        "שימו לב לתוצאות שמתקבלות, האם אתם ב-overfitting?<br>\n",
        "מתודת ה-fit מחזירה אובייקט history אשר שומר את תוצאות ה-accuracy וה-loss לאורך האימון. שמרו את התוצאות על מנת להציגן בהמשך."
      ],
      "id": "a1914dc4"
    },
    {
      "cell_type": "code",
      "metadata": {
        "id": "3f1cf6ee"
      },
      "source": [
        ""
      ],
      "id": "3f1cf6ee",
      "execution_count": null,
      "outputs": []
    },
    {
      "cell_type": "markdown",
      "metadata": {
        "id": "2f3d0ac6"
      },
      "source": [
        "<div dir=rtl>\n",
        "\n",
        "### הצגת ה-Loss\\Acuraccy\n",
        "\n",
        "צרו גרף אשר מציג את עקומת ההפסד ו/או הדיוק של המודל.<br>\n",
        "נסו לבצע אופטימיזציה של הפרמטרים שבחרתם על סמך העקומה המתקבלת."
      ],
      "id": "2f3d0ac6"
    },
    {
      "cell_type": "code",
      "metadata": {
        "id": "b01c56ce"
      },
      "source": [
        ""
      ],
      "id": "b01c56ce",
      "execution_count": null,
      "outputs": []
    },
    {
      "cell_type": "markdown",
      "metadata": {
        "id": "363b6f81"
      },
      "source": [
        "<div dir=rtl>\n",
        "\n",
        "### בחינת ביצועי המודל\n",
        "\n",
        "בצעו בדיקה של ביצועי המודל על סט המבחן. האם התוצאות רחוקות ממה שקיבלתם על סט הוולידציה?"
      ],
      "id": "363b6f81"
    },
    {
      "cell_type": "code",
      "metadata": {
        "id": "9e793670"
      },
      "source": [
        ""
      ],
      "id": "9e793670",
      "execution_count": null,
      "outputs": []
    }
  ]
}