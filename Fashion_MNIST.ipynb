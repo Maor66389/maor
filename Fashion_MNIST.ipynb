{
  "nbformat": 4,
  "nbformat_minor": 5,
  "metadata": {
    "kernelspec": {
      "display_name": "Python 3",
      "language": "python",
      "name": "python3"
    },
    "language_info": {
      "codemirror_mode": {
        "name": "ipython",
        "version": 3
      },
      "file_extension": ".py",
      "mimetype": "text/x-python",
      "name": "python",
      "nbconvert_exporter": "python",
      "pygments_lexer": "ipython3",
      "version": "3.8.8"
    },
    "colab": {
      "name": "Fashion MNIST.ipynb",
      "provenance": [],
      "include_colab_link": true
    }
  },
  "cells": [
    {
      "cell_type": "markdown",
      "metadata": {
        "id": "view-in-github",
        "colab_type": "text"
      },
      "source": [
        "<a href=\"https://colab.research.google.com/github/Maor66389/maor/blob/main/Fashion_MNIST.ipynb\" target=\"_parent\"><img src=\"https://colab.research.google.com/assets/colab-badge.svg\" alt=\"Open In Colab\"/></a>"
      ]
    },
    {
      "cell_type": "markdown",
      "metadata": {
        "id": "a5296d63"
      },
      "source": [
        "# Fashion MNIST\n",
        "<div dir=rtl>\n",
        "\n",
        "\n",
        "בתרגיל זה נשתמש בדאטה סט אשר נקרא Fashion MNIST אותו ניקח מספריית tensorflow.<br>\n",
        "הריצו את התא הבא, אם יש לכם צורך ב-imports נוספים הוסיפו אותם."
      ],
      "id": "a5296d63"
    },
    {
      "cell_type": "code",
      "metadata": {
        "id": "720a6528"
      },
      "source": [
        "import numpy as np\n",
        "import matplotlib.pyplot as plt\n",
        "\n",
        "\n",
        "import tensorflow as tf"
      ],
      "id": "720a6528",
      "execution_count": 2,
      "outputs": []
    },
    {
      "cell_type": "markdown",
      "metadata": {
        "id": "5dc239e1"
      },
      "source": [
        "<div dir=rtl>\n",
        "\n",
        "בתא הבא אנו מיבאים את הדאטה סט ומחלקים אותו לדאטה של אימון ודאטה של בחינה.<br>"
      ],
      "id": "5dc239e1"
    },
    {
      "cell_type": "code",
      "metadata": {
        "id": "2f37ee13"
      },
      "source": [
        "#יבוא של ה dataset \n",
        "fashion_mnist = tf.keras.datasets.fashion_mnist\n",
        "#חילוק לאימון ולמבחן תמונות ותיוגים\n",
        "(train_images, train_labels), (test_images, test_labels) = fashion_mnist.load_data()"
      ],
      "id": "2f37ee13",
      "execution_count": 4,
      "outputs": []
    },
    {
      "cell_type": "code",
      "metadata": {
        "colab": {
          "base_uri": "https://localhost:8080/"
        },
        "id": "9OEGSivXreEz",
        "outputId": "4687e8b2-d55c-48ec-be9f-eb286a23336f"
      },
      "source": [
        "print(train_images.shape)\n"
      ],
      "id": "9OEGSivXreEz",
      "execution_count": 5,
      "outputs": [
        {
          "output_type": "stream",
          "name": "stdout",
          "text": [
            "(60000, 28, 28)\n"
          ]
        }
      ]
    },
    {
      "cell_type": "code",
      "metadata": {
        "colab": {
          "base_uri": "https://localhost:8080/"
        },
        "id": "TP5aC8_Us3Sr",
        "outputId": "7a9154df-ca7a-4a14-c2c1-a93a7ab98ee0"
      },
      "source": [
        "#תשובה מספר 4\n",
        "np.unique(train_labels)\n",
        "#ככה רואים שיש עשרה תיוגיום בדאטה סט כל תיוג מיוצג על ידי ספרה מאחת על 10\n",
        "\n"
      ],
      "id": "TP5aC8_Us3Sr",
      "execution_count": 6,
      "outputs": [
        {
          "output_type": "execute_result",
          "data": {
            "text/plain": [
              "array([0, 1, 2, 3, 4, 5, 6, 7, 8, 9], dtype=uint8)"
            ]
          },
          "metadata": {},
          "execution_count": 6
        }
      ]
    },
    {
      "cell_type": "code",
      "metadata": {
        "id": "f_PxR2Eltnyj",
        "colab": {
          "base_uri": "https://localhost:8080/"
        },
        "outputId": "49842bcc-da66-4dfa-8d5f-dbaeb46f04f6"
      },
      "source": [
        " #מערך של 28 על 28 כל פיקסל מיוצג על ידי איבר במערך כל איבר יש ערך בין 0 ל256 המייצג את הצבע של הפיקסל\n",
        "train_images[0]"
      ],
      "id": "f_PxR2Eltnyj",
      "execution_count": 7,
      "outputs": [
        {
          "output_type": "execute_result",
          "data": {
            "text/plain": [
              "array([[  0,   0,   0,   0,   0,   0,   0,   0,   0,   0,   0,   0,   0,\n",
              "          0,   0,   0,   0,   0,   0,   0,   0,   0,   0,   0,   0,   0,\n",
              "          0,   0],\n",
              "       [  0,   0,   0,   0,   0,   0,   0,   0,   0,   0,   0,   0,   0,\n",
              "          0,   0,   0,   0,   0,   0,   0,   0,   0,   0,   0,   0,   0,\n",
              "          0,   0],\n",
              "       [  0,   0,   0,   0,   0,   0,   0,   0,   0,   0,   0,   0,   0,\n",
              "          0,   0,   0,   0,   0,   0,   0,   0,   0,   0,   0,   0,   0,\n",
              "          0,   0],\n",
              "       [  0,   0,   0,   0,   0,   0,   0,   0,   0,   0,   0,   0,   1,\n",
              "          0,   0,  13,  73,   0,   0,   1,   4,   0,   0,   0,   0,   1,\n",
              "          1,   0],\n",
              "       [  0,   0,   0,   0,   0,   0,   0,   0,   0,   0,   0,   0,   3,\n",
              "          0,  36, 136, 127,  62,  54,   0,   0,   0,   1,   3,   4,   0,\n",
              "          0,   3],\n",
              "       [  0,   0,   0,   0,   0,   0,   0,   0,   0,   0,   0,   0,   6,\n",
              "          0, 102, 204, 176, 134, 144, 123,  23,   0,   0,   0,   0,  12,\n",
              "         10,   0],\n",
              "       [  0,   0,   0,   0,   0,   0,   0,   0,   0,   0,   0,   0,   0,\n",
              "          0, 155, 236, 207, 178, 107, 156, 161, 109,  64,  23,  77, 130,\n",
              "         72,  15],\n",
              "       [  0,   0,   0,   0,   0,   0,   0,   0,   0,   0,   0,   1,   0,\n",
              "         69, 207, 223, 218, 216, 216, 163, 127, 121, 122, 146, 141,  88,\n",
              "        172,  66],\n",
              "       [  0,   0,   0,   0,   0,   0,   0,   0,   0,   1,   1,   1,   0,\n",
              "        200, 232, 232, 233, 229, 223, 223, 215, 213, 164, 127, 123, 196,\n",
              "        229,   0],\n",
              "       [  0,   0,   0,   0,   0,   0,   0,   0,   0,   0,   0,   0,   0,\n",
              "        183, 225, 216, 223, 228, 235, 227, 224, 222, 224, 221, 223, 245,\n",
              "        173,   0],\n",
              "       [  0,   0,   0,   0,   0,   0,   0,   0,   0,   0,   0,   0,   0,\n",
              "        193, 228, 218, 213, 198, 180, 212, 210, 211, 213, 223, 220, 243,\n",
              "        202,   0],\n",
              "       [  0,   0,   0,   0,   0,   0,   0,   0,   0,   1,   3,   0,  12,\n",
              "        219, 220, 212, 218, 192, 169, 227, 208, 218, 224, 212, 226, 197,\n",
              "        209,  52],\n",
              "       [  0,   0,   0,   0,   0,   0,   0,   0,   0,   0,   6,   0,  99,\n",
              "        244, 222, 220, 218, 203, 198, 221, 215, 213, 222, 220, 245, 119,\n",
              "        167,  56],\n",
              "       [  0,   0,   0,   0,   0,   0,   0,   0,   0,   4,   0,   0,  55,\n",
              "        236, 228, 230, 228, 240, 232, 213, 218, 223, 234, 217, 217, 209,\n",
              "         92,   0],\n",
              "       [  0,   0,   1,   4,   6,   7,   2,   0,   0,   0,   0,   0, 237,\n",
              "        226, 217, 223, 222, 219, 222, 221, 216, 223, 229, 215, 218, 255,\n",
              "         77,   0],\n",
              "       [  0,   3,   0,   0,   0,   0,   0,   0,   0,  62, 145, 204, 228,\n",
              "        207, 213, 221, 218, 208, 211, 218, 224, 223, 219, 215, 224, 244,\n",
              "        159,   0],\n",
              "       [  0,   0,   0,   0,  18,  44,  82, 107, 189, 228, 220, 222, 217,\n",
              "        226, 200, 205, 211, 230, 224, 234, 176, 188, 250, 248, 233, 238,\n",
              "        215,   0],\n",
              "       [  0,  57, 187, 208, 224, 221, 224, 208, 204, 214, 208, 209, 200,\n",
              "        159, 245, 193, 206, 223, 255, 255, 221, 234, 221, 211, 220, 232,\n",
              "        246,   0],\n",
              "       [  3, 202, 228, 224, 221, 211, 211, 214, 205, 205, 205, 220, 240,\n",
              "         80, 150, 255, 229, 221, 188, 154, 191, 210, 204, 209, 222, 228,\n",
              "        225,   0],\n",
              "       [ 98, 233, 198, 210, 222, 229, 229, 234, 249, 220, 194, 215, 217,\n",
              "        241,  65,  73, 106, 117, 168, 219, 221, 215, 217, 223, 223, 224,\n",
              "        229,  29],\n",
              "       [ 75, 204, 212, 204, 193, 205, 211, 225, 216, 185, 197, 206, 198,\n",
              "        213, 240, 195, 227, 245, 239, 223, 218, 212, 209, 222, 220, 221,\n",
              "        230,  67],\n",
              "       [ 48, 203, 183, 194, 213, 197, 185, 190, 194, 192, 202, 214, 219,\n",
              "        221, 220, 236, 225, 216, 199, 206, 186, 181, 177, 172, 181, 205,\n",
              "        206, 115],\n",
              "       [  0, 122, 219, 193, 179, 171, 183, 196, 204, 210, 213, 207, 211,\n",
              "        210, 200, 196, 194, 191, 195, 191, 198, 192, 176, 156, 167, 177,\n",
              "        210,  92],\n",
              "       [  0,   0,  74, 189, 212, 191, 175, 172, 175, 181, 185, 188, 189,\n",
              "        188, 193, 198, 204, 209, 210, 210, 211, 188, 188, 194, 192, 216,\n",
              "        170,   0],\n",
              "       [  2,   0,   0,   0,  66, 200, 222, 237, 239, 242, 246, 243, 244,\n",
              "        221, 220, 193, 191, 179, 182, 182, 181, 176, 166, 168,  99,  58,\n",
              "          0,   0],\n",
              "       [  0,   0,   0,   0,   0,   0,   0,  40,  61,  44,  72,  41,  35,\n",
              "          0,   0,   0,   0,   0,   0,   0,   0,   0,   0,   0,   0,   0,\n",
              "          0,   0],\n",
              "       [  0,   0,   0,   0,   0,   0,   0,   0,   0,   0,   0,   0,   0,\n",
              "          0,   0,   0,   0,   0,   0,   0,   0,   0,   0,   0,   0,   0,\n",
              "          0,   0],\n",
              "       [  0,   0,   0,   0,   0,   0,   0,   0,   0,   0,   0,   0,   0,\n",
              "          0,   0,   0,   0,   0,   0,   0,   0,   0,   0,   0,   0,   0,\n",
              "          0,   0]], dtype=uint8)"
            ]
          },
          "metadata": {},
          "execution_count": 7
        }
      ]
    },
    {
      "cell_type": "markdown",
      "metadata": {
        "id": "0c0ef8d9"
      },
      "source": [
        "<div dir=rtl>\n",
        "\n",
        "### ענו על השאלות הבאות ביחס לדאטה\n",
        "\n",
        "1. כמה דגימות אימון ישנן? כמה דגימות מבחן?\n",
        "2. מה גודל כל תמונה בדאטה סט?\n",
        "3. כמה לייבלז שונים ישנם ומהם?\n",
        "4. מה התפלגות הלייבלז השונים? כמה תמונות יש לכל לייבל?\n",
        "5. מה טווח הערכים בתמונה?"
      ],
      "id": "0c0ef8d9"
    },
    {
      "cell_type": "markdown",
      "metadata": {
        "id": "8jxMQQw9lPUC"
      },
      "source": [
        "\n",
        "1. ישנם 60000 דגימות אימון ו10000 דגימות מבחן\n",
        "2. כל התמונות בגודל של28*28*1\n",
        "3. יש עשרה תיוגים שונים "
      ],
      "id": "8jxMQQw9lPUC"
    },
    {
      "cell_type": "markdown",
      "metadata": {
        "id": "5649b8db"
      },
      "source": [
        "<div dir=rtl>\n",
        "\n",
        "### הצגת תמונות לדוגמא\n",
        "\n",
        "הציגו מספר תמונות לדוגמא מתוך הדאטה של האימון. הציגו בכותרת של כל תמונה את הלייבל שלה. <br>\n",
        "מומלץ להגדיר רשימה של השמות המתאימים ללייבלז ולא להשתמש רק במספור שלהם לצורך ההצגה."
      ],
      "id": "5649b8db"
    },
    {
      "cell_type": "code",
      "metadata": {
        "id": "a9c7d084",
        "colab": {
          "base_uri": "https://localhost:8080/",
          "height": 265
        },
        "outputId": "c5b52e32-ee48-4125-96a5-5babbb6ebc37"
      },
      "source": [
        "plt.imshow(train_images[0])\n",
        "plt.colorbar()\n",
        "plt.show()"
      ],
      "id": "a9c7d084",
      "execution_count": 12,
      "outputs": [
        {
          "output_type": "display_data",
          "data": {
            "image/png": "[encoded data removed]",
            "text/plain": [
              "<Figure size 432x288 with 2 Axes>"
            ]
          },
          "metadata": {
            "needs_background": "light"
          }
        }
      ]
    },
    {
      "cell_type": "markdown",
      "metadata": {
        "id": "d9644975"
      },
      "source": [
        "<div dir=rtl>\n",
        "\n",
        "### עיבוד מקדים של הדאטה\n",
        "\n",
        "לפני שנעביר את התמונות לרשת לצורך אימון, נרצה לבצע עיבוד מקדים. בדומה לדוגמא מהתרגול האחרון, נרצה לבצע scaling, להוסיף מימד לתמונות, ולהפוך את הלייבלז לקטגוריאלים."
      ],
      "id": "d9644975"
    },
    {
      "cell_type": "code",
      "metadata": {
        "id": "a0da8a6c"
      },
      "source": [
        ""
      ],
      "id": "a0da8a6c",
      "execution_count": null,
      "outputs": []
    },
    {
      "cell_type": "markdown",
      "metadata": {
        "id": "bd40ef59"
      },
      "source": [
        "<div dir=rtl>\n",
        "\n",
        "### הגדרת המודל\n",
        "\n",
        "בתא הבא הגדירו את המודל שלכם. המודל יהיה מסוג sequential וצריך לכלול מספר שכבות לבחירתכם.<br>\n",
        "שימו לב להגדיר למודל את גודל הקלט אותו הוא יקבל.<br>\n",
        "השתמשו ב-summary על מנת לראות תדפיס של המודל ולוודא את הגדלים ומספר הפרממטרים.<br>\n",
        "לאחר מכן קמפלו את המודל שלכם. זכרו להגדיר ל-compile מה פונקציית המחיר, מה שיטת האופטימיזציה ומהן מטריקות ההערכה שאתם מעוניינים בהן."
      ],
      "id": "bd40ef59"
    },
    {
      "cell_type": "code",
      "metadata": {
        "id": "df2acd4d"
      },
      "source": [
        ""
      ],
      "id": "df2acd4d",
      "execution_count": null,
      "outputs": []
    },
    {
      "cell_type": "markdown",
      "metadata": {
        "id": "a1914dc4"
      },
      "source": [
        "<div dir=rtl>\n",
        "\n",
        "\n",
        "### אימון המודל\n",
        "\n",
        "בצעו אימון למודל שלכם בתא הבא. הגדירו אחוז מסויים מהדאטה שישמש לולידציה.<br>\n",
        "שימו לב לתוצאות שמתקבלות, האם אתם ב-overfitting?<br>\n",
        "מתודת ה-fit מחזירה אובייקט history אשר שומר את תוצאות ה-accuracy וה-loss לאורך האימון. שמרו את התוצאות על מנת להציגן בהמשך."
      ],
      "id": "a1914dc4"
    },
    {
      "cell_type": "code",
      "metadata": {
        "id": "3f1cf6ee"
      },
      "source": [
        ""
      ],
      "id": "3f1cf6ee",
      "execution_count": null,
      "outputs": []
    },
    {
      "cell_type": "markdown",
      "metadata": {
        "id": "2f3d0ac6"
      },
      "source": [
        "<div dir=rtl>\n",
        "\n",
        "### הצגת ה-Loss\\Acuraccy\n",
        "\n",
        "צרו גרף אשר מציג את עקומת ההפסד ו/או הדיוק של המודל.<br>\n",
        "נסו לבצע אופטימיזציה של הפרמטרים שבחרתם על סמך העקומה המתקבלת."
      ],
      "id": "2f3d0ac6"
    },
    {
      "cell_type": "code",
      "metadata": {
        "id": "b01c56ce"
      },
      "source": [
        ""
      ],
      "id": "b01c56ce",
      "execution_count": null,
      "outputs": []
    },
    {
      "cell_type": "markdown",
      "metadata": {
        "id": "363b6f81"
      },
      "source": [
        "<div dir=rtl>\n",
        "\n",
        "### בחינת ביצועי המודל\n",
        "\n",
        "בצעו בדיקה של ביצועי המודל על סט המבחן. האם התוצאות רחוקות ממה שקיבלתם על סט הוולידציה?"
      ],
      "id": "363b6f81"
    },
    {
      "cell_type": "code",
      "metadata": {
        "id": "9e793670"
      },
      "source": [
        ""
      ],
      "id": "9e793670",
      "execution_count": null,
      "outputs": []
    },
    {
      "cell_type": "code",
      "metadata": {
        "id": "zPOhXUEQydR8"
      },
      "source": [
        ""
      ],
      "id": "zPOhXUEQydR8",
      "execution_count": null,
      "outputs": []
    }
  ]
}