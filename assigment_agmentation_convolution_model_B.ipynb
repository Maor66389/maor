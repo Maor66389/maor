{
 "cells": [
  {
   "cell_type": "code",
   "execution_count": 1,
   "metadata": {},
   "outputs": [
    {
     "data": {
      "text/plain": [
       "'2.4.1'"
      ]
     },
     "execution_count": 1,
     "metadata": {},
     "output_type": "execute_result"
    }
   ],
   "source": [
    "# TensorFlow and tf.keras\n",
    "import tensorflow as tf\n",
    "import pandas as pd\n",
    "# Helper libraries\n",
    "import numpy as np\n",
    "import matplotlib.pyplot as plt\n",
    "\n",
    "import cv2\n",
    "from keras.models import Sequential, load_model\n",
    "from keras.utils import to_categorical\n",
    "tf.__version__"
   ]
  },
  {
   "cell_type": "code",
   "execution_count": 2,
   "metadata": {},
   "outputs": [],
   "source": [
    "from tensorflow import keras\n",
    "from tensorflow.keras import layers\n",
    "from keras.preprocessing.image import *\n",
    "from keras import models "
   ]
  },
  {
   "cell_type": "code",
   "execution_count": 3,
   "metadata": {},
   "outputs": [
    {
     "data": {
      "text/plain": [
       "(5216, 2)"
      ]
     },
     "execution_count": 3,
     "metadata": {},
     "output_type": "execute_result"
    }
   ],
   "source": [
    "df_train = pd.read_pickle(\"./train_data.pkl\")\n",
    "df_train.shape"
   ]
  },
  {
   "cell_type": "code",
   "execution_count": 4,
   "metadata": {
    "scrolled": true
   },
   "outputs": [
    {
     "name": "stdout",
     "output_type": "stream",
     "text": [
      "df_valid:  (16, 2)\n",
      "df_test:  (624, 2)\n"
     ]
    }
   ],
   "source": [
    "df_valid = pd.read_pickle(\"./valid_data.pkl\")\n",
    "print('df_valid: ',df_valid.shape)\n",
    "df_test = pd.read_pickle(\"./test_data.pkl\")\n",
    "print('df_test: ',df_test.shape)"
   ]
  },
  {
   "cell_type": "code",
   "execution_count": 5,
   "metadata": {},
   "outputs": [],
   "source": [
    "df_train['shape'] = df_train['matrix'].apply(lambda x: len(x.shape))"
   ]
  },
  {
   "cell_type": "code",
   "execution_count": 6,
   "metadata": {},
   "outputs": [
    {
     "data": {
      "text/html": [
       "<div>\n",
       "<style scoped>\n",
       "    .dataframe tbody tr th:only-of-type {\n",
       "        vertical-align: middle;\n",
       "    }\n",
       "\n",
       "    .dataframe tbody tr th {\n",
       "        vertical-align: top;\n",
       "    }\n",
       "\n",
       "    .dataframe thead th {\n",
       "        text-align: right;\n",
       "    }\n",
       "</style>\n",
       "<table border=\"1\" class=\"dataframe\">\n",
       "  <thead>\n",
       "    <tr style=\"text-align: right;\">\n",
       "      <th></th>\n",
       "      <th>label</th>\n",
       "      <th>matrix</th>\n",
       "      <th>shape</th>\n",
       "    </tr>\n",
       "  </thead>\n",
       "  <tbody>\n",
       "    <tr>\n",
       "      <th>0</th>\n",
       "      <td>0</td>\n",
       "      <td>[[61, 63, 69, 75, 86, 85, 92, 89, 93, 96, 93, ...</td>\n",
       "      <td>2</td>\n",
       "    </tr>\n",
       "    <tr>\n",
       "      <th>1</th>\n",
       "      <td>1</td>\n",
       "      <td>[[51, 53, 52, 52, 57, 55, 60, 61, 62, 62, 60, ...</td>\n",
       "      <td>2</td>\n",
       "    </tr>\n",
       "    <tr>\n",
       "      <th>2</th>\n",
       "      <td>1</td>\n",
       "      <td>[[19, 20, 22, 27, 28, 30, 36, 40, 42, 46, 50, ...</td>\n",
       "      <td>2</td>\n",
       "    </tr>\n",
       "    <tr>\n",
       "      <th>3</th>\n",
       "      <td>0</td>\n",
       "      <td>[[12, 12, 13, 13, 15, 14, 15, 16, 15, 12, 16, ...</td>\n",
       "      <td>2</td>\n",
       "    </tr>\n",
       "    <tr>\n",
       "      <th>4</th>\n",
       "      <td>1</td>\n",
       "      <td>[[3, 3, 3, 2, 4, 13, 23, 25, 32, 43, 66, 64, 7...</td>\n",
       "      <td>2</td>\n",
       "    </tr>\n",
       "  </tbody>\n",
       "</table>\n",
       "</div>"
      ],
      "text/plain": [
       "   label                                             matrix  shape\n",
       "0      0  [[61, 63, 69, 75, 86, 85, 92, 89, 93, 96, 93, ...      2\n",
       "1      1  [[51, 53, 52, 52, 57, 55, 60, 61, 62, 62, 60, ...      2\n",
       "2      1  [[19, 20, 22, 27, 28, 30, 36, 40, 42, 46, 50, ...      2\n",
       "3      0  [[12, 12, 13, 13, 15, 14, 15, 16, 15, 12, 16, ...      2\n",
       "4      1  [[3, 3, 3, 2, 4, 13, 23, 25, 32, 43, 66, 64, 7...      2"
      ]
     },
     "execution_count": 6,
     "metadata": {},
     "output_type": "execute_result"
    }
   ],
   "source": [
    "df_train.head()"
   ]
  },
  {
   "cell_type": "code",
   "execution_count": 7,
   "metadata": {},
   "outputs": [],
   "source": [
    "x = df_train[df_train['shape'] ==3].iloc[0,1]"
   ]
  },
  {
   "cell_type": "code",
   "execution_count": 8,
   "metadata": {},
   "outputs": [],
   "source": [
    "df_train.loc[df_train['shape'] ==3, 'matrix'] = df_train['matrix'].apply(lambda x: x.T[0].T)"
   ]
  },
  {
   "cell_type": "code",
   "execution_count": 9,
   "metadata": {},
   "outputs": [
    {
     "data": {
      "text/plain": [
       "(624, 224, 224)"
      ]
     },
     "execution_count": 9,
     "metadata": {},
     "output_type": "execute_result"
    }
   ],
   "source": [
    "X_test = df_test['matrix'].values\n",
    "X_test = np.array([X_test[i] for i in range(X_test.shape[0])])/255.\n",
    "X_test.shape"
   ]
  },
  {
   "cell_type": "code",
   "execution_count": 10,
   "metadata": {},
   "outputs": [
    {
     "data": {
      "text/plain": [
       "(624, 224, 224, 1)"
      ]
     },
     "execution_count": 10,
     "metadata": {},
     "output_type": "execute_result"
    }
   ],
   "source": [
    "X_test = np.expand_dims(X_test, -1)\n",
    "X_test.shape"
   ]
  },
  {
   "cell_type": "code",
   "execution_count": 11,
   "metadata": {},
   "outputs": [],
   "source": [
    "y_test = df_test.label.values"
   ]
  },
  {
   "cell_type": "code",
   "execution_count": 12,
   "metadata": {},
   "outputs": [
    {
     "data": {
      "text/plain": [
       "(5216,)"
      ]
     },
     "execution_count": 12,
     "metadata": {},
     "output_type": "execute_result"
    }
   ],
   "source": [
    "X_train = df_train['matrix'].values\n",
    "X_train.shape"
   ]
  },
  {
   "cell_type": "code",
   "execution_count": 13,
   "metadata": {},
   "outputs": [
    {
     "data": {
      "text/plain": [
       "(5216, 224, 224)"
      ]
     },
     "execution_count": 13,
     "metadata": {},
     "output_type": "execute_result"
    }
   ],
   "source": [
    "X_train = np.array([X_train[i] for i in range(X_train.shape[0])])\n",
    "X_train.shape"
   ]
  },
  {
   "cell_type": "code",
   "execution_count": 14,
   "metadata": {},
   "outputs": [
    {
     "data": {
      "text/plain": [
       "(5216, 224, 224, 1)"
      ]
     },
     "execution_count": 14,
     "metadata": {},
     "output_type": "execute_result"
    }
   ],
   "source": [
    "X_train = np.expand_dims(X_train, -1)\n",
    "X_train.shape"
   ]
  },
  {
   "cell_type": "code",
   "execution_count": 15,
   "metadata": {},
   "outputs": [
    {
     "data": {
      "text/plain": [
       "(5216, 2)"
      ]
     },
     "execution_count": 15,
     "metadata": {},
     "output_type": "execute_result"
    }
   ],
   "source": [
    "num_classes = 2\n",
    "y_train = df_train.label.values\n",
    "# convert class vectors to binary class matrices\n",
    "y_train = to_categorical(y_train, num_classes)\n",
    "y_train.shape"
   ]
  },
  {
   "cell_type": "code",
   "execution_count": 16,
   "metadata": {},
   "outputs": [
    {
     "data": {
      "text/plain": [
       "((5216, 224, 224, 1), (5216, 2))"
      ]
     },
     "execution_count": 16,
     "metadata": {},
     "output_type": "execute_result"
    }
   ],
   "source": [
    "X_train.shape, y_train.shape"
   ]
  },
  {
   "cell_type": "code",
   "execution_count": 17,
   "metadata": {},
   "outputs": [],
   "source": [
    "from sklearn.model_selection import train_test_split\n",
    "X_train, X_valid, y_train, y_valid = train_test_split(X_train, y_train, test_size=0.2, random_state=42)"
   ]
  },
  {
   "cell_type": "code",
   "execution_count": 18,
   "metadata": {},
   "outputs": [
    {
     "data": {
      "text/plain": [
       "((4172, 224, 224, 1), (4172, 2))"
      ]
     },
     "execution_count": 18,
     "metadata": {},
     "output_type": "execute_result"
    }
   ],
   "source": [
    "X_train.shape, y_train.shape"
   ]
  },
  {
   "cell_type": "raw",
   "metadata": {},
   "source": [
    "image = X_train[0]\n",
    "\n",
    "plt.figure()\n",
    "plt.imshow(image, cmap=plt.get_cmap('gray'))\n",
    "plt.colorbar()\n",
    "plt.grid(False)\n",
    "plt.show()"
   ]
  },
  {
   "cell_type": "code",
   "execution_count": 19,
   "metadata": {},
   "outputs": [],
   "source": [
    "datagen = ImageDataGenerator(rescale=1/255,\n",
    "                             rotation_range=20,\n",
    "                             horizontal_flip=True,\n",
    "                             height_shift_range=0.1,\n",
    "                             width_shift_range=0.1,\n",
    "                             shear_range=0.1,\n",
    "                             brightness_range=[0.3, 1.5])"
   ]
  },
  {
   "cell_type": "code",
   "execution_count": 20,
   "metadata": {},
   "outputs": [],
   "source": [
    "train_gen = datagen.flow(X_train,y_train)"
   ]
  },
  {
   "cell_type": "raw",
   "metadata": {},
   "source": [
    "model_convolution = tf.keras.models.Sequential([\n",
    "  layers.Conv2D(64, kernel_size=(3, 3), activation=\"relu\",name='conv1',input_shape=(224, 224, 1)),\n",
    "  layers.Conv2D(128, kernel_size=(3, 3), activation=\"relu\",name='conv2'),\n",
    "  layers.MaxPooling2D(pool_size=(2, 2),name='pool1'),\n",
    "  layers.Conv2D(128, kernel_size=(3, 3), activation=\"relu\",name='conv3'),\n",
    "  layers.Conv2D(256, kernel_size=(3, 3), activation=\"relu\",name='conv4'),\n",
    "  layers.MaxPooling2D(pool_size=(2, 2),name='pool2'),\n",
    "  layers.Flatten(),\n",
    "  layers.Dropout(0.2),\n",
    "  layers.Dense(50,activation=\"relu\",name='Dense1'),\n",
    "  layers.Dense(15,activation=\"relu\",name='Dense2'),\n",
    "  tf.keras.layers.Dense(num_classes, activation=\"softmax\")])"
   ]
  },
  {
   "cell_type": "code",
   "execution_count": 21,
   "metadata": {},
   "outputs": [],
   "source": [
    "#num_classes = 2\n",
    "model_convolution = tf.keras.models.Sequential([\n",
    "  layers.Conv2D(32, kernel_size=(3, 3), activation=\"relu\",name='conv1',input_shape=(224, 224, 1)),\n",
    "  layers.MaxPooling2D(pool_size=(2, 2),name='pool1'),\n",
    "  layers.Conv2D(64, kernel_size=(3, 3), activation=\"relu\",name='conv2'),\n",
    "  layers.MaxPooling2D(pool_size=(2, 2),name='pool2'),\n",
    "  layers.Flatten(),\n",
    "  layers.Dropout(0.3),\n",
    "  layers.Dense(20,activation=\"relu\",name='Dense1'),\n",
    "  layers.Dropout(0.1),\n",
    "  tf.keras.layers.Dense(num_classes, activation=\"softmax\")])"
   ]
  },
  {
   "cell_type": "code",
   "execution_count": 22,
   "metadata": {},
   "outputs": [
    {
     "name": "stdout",
     "output_type": "stream",
     "text": [
      "Model: \"sequential\"\n",
      "_________________________________________________________________\n",
      "Layer (type)                 Output Shape              Param #   \n",
      "=================================================================\n",
      "conv1 (Conv2D)               (None, 222, 222, 32)      320       \n",
      "_________________________________________________________________\n",
      "pool1 (MaxPooling2D)         (None, 111, 111, 32)      0         \n",
      "_________________________________________________________________\n",
      "conv2 (Conv2D)               (None, 109, 109, 64)      18496     \n",
      "_________________________________________________________________\n",
      "pool2 (MaxPooling2D)         (None, 54, 54, 64)        0         \n",
      "_________________________________________________________________\n",
      "flatten (Flatten)            (None, 186624)            0         \n",
      "_________________________________________________________________\n",
      "dropout (Dropout)            (None, 186624)            0         \n",
      "_________________________________________________________________\n",
      "Dense1 (Dense)               (None, 20)                3732500   \n",
      "_________________________________________________________________\n",
      "dropout_1 (Dropout)          (None, 20)                0         \n",
      "_________________________________________________________________\n",
      "dense (Dense)                (None, 2)                 42        \n",
      "=================================================================\n",
      "Total params: 3,751,358\n",
      "Trainable params: 3,751,358\n",
      "Non-trainable params: 0\n",
      "_________________________________________________________________\n"
     ]
    }
   ],
   "source": [
    "model_convolution.summary()"
   ]
  },
  {
   "cell_type": "code",
   "execution_count": 23,
   "metadata": {},
   "outputs": [],
   "source": [
    "batch_size = 16\n",
    "epochs = 50\n",
    "model_convolution.compile(loss=\"categorical_crossentropy\", optimizer=\"adam\", metrics=[\"accuracy\"])"
   ]
  },
  {
   "cell_type": "code",
   "execution_count": 24,
   "metadata": {},
   "outputs": [
    {
     "name": "stdout",
     "output_type": "stream",
     "text": [
      "Epoch 1/50\n",
      "131/131 [==============================] - 32s 210ms/step - loss: 0.6312 - accuracy: 0.7284 - val_loss: 3.7247 - val_accuracy: 0.9004\n",
      "Epoch 2/50\n",
      "131/131 [==============================] - 24s 184ms/step - loss: 0.3067 - accuracy: 0.8851 - val_loss: 11.2120 - val_accuracy: 0.9013\n",
      "Epoch 3/50\n",
      "131/131 [==============================] - 29s 223ms/step - loss: 0.3042 - accuracy: 0.8770 - val_loss: 4.6343 - val_accuracy: 0.9167\n",
      "Epoch 4/50\n",
      "131/131 [==============================] - 36s 276ms/step - loss: 0.2748 - accuracy: 0.8953 - val_loss: 18.9283 - val_accuracy: 0.8870\n",
      "Epoch 5/50\n",
      "131/131 [==============================] - 36s 277ms/step - loss: 0.2439 - accuracy: 0.8992 - val_loss: 18.8315 - val_accuracy: 0.9310\n",
      "Epoch 6/50\n",
      "131/131 [==============================] - 36s 275ms/step - loss: 0.2362 - accuracy: 0.9063 - val_loss: 20.3063 - val_accuracy: 0.8918\n",
      "Epoch 7/50\n",
      "131/131 [==============================] - 35s 268ms/step - loss: 0.2343 - accuracy: 0.9117 - val_loss: 11.4165 - val_accuracy: 0.9243\n",
      "Epoch 8/50\n",
      "131/131 [==============================] - 36s 270ms/step - loss: 0.2297 - accuracy: 0.9064 - val_loss: 9.4862 - val_accuracy: 0.9416\n",
      "Epoch 9/50\n",
      "131/131 [==============================] - 36s 276ms/step - loss: 0.1906 - accuracy: 0.9191 - val_loss: 8.0270 - val_accuracy: 0.9502\n",
      "Epoch 10/50\n",
      "131/131 [==============================] - 34s 255ms/step - loss: 0.1984 - accuracy: 0.9255 - val_loss: 12.9540 - val_accuracy: 0.9339\n",
      "Epoch 11/50\n",
      "131/131 [==============================] - 34s 258ms/step - loss: 0.1876 - accuracy: 0.9248 - val_loss: 8.1619 - val_accuracy: 0.9454\n",
      "Epoch 12/50\n",
      "131/131 [==============================] - 34s 255ms/step - loss: 0.1844 - accuracy: 0.9286 - val_loss: 9.2625 - val_accuracy: 0.9483\n",
      "Epoch 13/50\n",
      "131/131 [==============================] - 34s 255ms/step - loss: 0.1922 - accuracy: 0.9322 - val_loss: 7.8292 - val_accuracy: 0.9444\n",
      "Epoch 14/50\n",
      "131/131 [==============================] - 34s 255ms/step - loss: 0.1584 - accuracy: 0.9433 - val_loss: 8.9767 - val_accuracy: 0.9492\n",
      "Epoch 15/50\n",
      "131/131 [==============================] - 34s 257ms/step - loss: 0.1839 - accuracy: 0.9326 - val_loss: 8.3719 - val_accuracy: 0.9406\n",
      "Epoch 16/50\n",
      "131/131 [==============================] - 34s 255ms/step - loss: 0.1685 - accuracy: 0.9347 - val_loss: 7.6205 - val_accuracy: 0.9397\n",
      "Epoch 17/50\n",
      "131/131 [==============================] - 34s 256ms/step - loss: 0.1887 - accuracy: 0.9249 - val_loss: 5.3697 - val_accuracy: 0.9310\n",
      "Epoch 18/50\n",
      "131/131 [==============================] - 34s 258ms/step - loss: 0.1793 - accuracy: 0.9329 - val_loss: 4.4963 - val_accuracy: 0.9511\n",
      "Epoch 19/50\n",
      "131/131 [==============================] - 34s 255ms/step - loss: 0.1583 - accuracy: 0.9352 - val_loss: 5.8003 - val_accuracy: 0.9473\n",
      "Epoch 20/50\n",
      "131/131 [==============================] - 33s 254ms/step - loss: 0.1838 - accuracy: 0.9286 - val_loss: 7.2609 - val_accuracy: 0.9397\n",
      "Epoch 21/50\n",
      "131/131 [==============================] - 34s 255ms/step - loss: 0.1583 - accuracy: 0.9377 - val_loss: 4.9241 - val_accuracy: 0.9234\n",
      "Epoch 22/50\n",
      "131/131 [==============================] - 34s 255ms/step - loss: 0.1485 - accuracy: 0.9460 - val_loss: 1.9743 - val_accuracy: 0.9262\n",
      "Epoch 23/50\n",
      "131/131 [==============================] - 34s 255ms/step - loss: 0.1633 - accuracy: 0.9370 - val_loss: 4.4081 - val_accuracy: 0.9473\n",
      "Epoch 24/50\n",
      "131/131 [==============================] - 34s 256ms/step - loss: 0.1472 - accuracy: 0.9471 - val_loss: 2.0000 - val_accuracy: 0.9425\n",
      "Epoch 25/50\n",
      "131/131 [==============================] - 33s 254ms/step - loss: 0.1531 - accuracy: 0.9435 - val_loss: 2.2036 - val_accuracy: 0.9473\n",
      "Epoch 26/50\n",
      "131/131 [==============================] - 34s 255ms/step - loss: 0.1571 - accuracy: 0.9393 - val_loss: 3.0607 - val_accuracy: 0.9339\n",
      "Epoch 27/50\n",
      "131/131 [==============================] - 33s 254ms/step - loss: 0.1569 - accuracy: 0.9424 - val_loss: 1.9728 - val_accuracy: 0.9330\n",
      "Epoch 28/50\n",
      "131/131 [==============================] - 33s 254ms/step - loss: 0.1749 - accuracy: 0.9347 - val_loss: 3.0548 - val_accuracy: 0.9377\n",
      "Epoch 29/50\n",
      "131/131 [==============================] - 33s 254ms/step - loss: 0.1420 - accuracy: 0.9436 - val_loss: 1.7374 - val_accuracy: 0.9473\n",
      "Epoch 30/50\n",
      "131/131 [==============================] - 34s 255ms/step - loss: 0.1337 - accuracy: 0.9529 - val_loss: 1.0692 - val_accuracy: 0.9387\n",
      "Epoch 31/50\n",
      "131/131 [==============================] - 33s 254ms/step - loss: 0.1438 - accuracy: 0.9452 - val_loss: 4.0653 - val_accuracy: 0.9444\n",
      "Epoch 32/50\n",
      "131/131 [==============================] - 34s 255ms/step - loss: 0.1371 - accuracy: 0.9492 - val_loss: 2.9556 - val_accuracy: 0.9492\n",
      "Epoch 33/50\n",
      "131/131 [==============================] - 34s 255ms/step - loss: 0.1319 - accuracy: 0.9545 - val_loss: 1.8482 - val_accuracy: 0.9454\n",
      "Epoch 34/50\n",
      "131/131 [==============================] - 34s 256ms/step - loss: 0.1599 - accuracy: 0.9372 - val_loss: 17.6557 - val_accuracy: 0.8027\n",
      "Epoch 35/50\n",
      "131/131 [==============================] - 34s 255ms/step - loss: 0.1427 - accuracy: 0.9450 - val_loss: 2.7806 - val_accuracy: 0.9282\n",
      "Epoch 36/50\n",
      "131/131 [==============================] - 34s 255ms/step - loss: 0.1366 - accuracy: 0.9472 - val_loss: 4.2196 - val_accuracy: 0.9454\n",
      "Epoch 37/50\n",
      "131/131 [==============================] - 34s 256ms/step - loss: 0.1272 - accuracy: 0.9534 - val_loss: 2.9006 - val_accuracy: 0.9358\n",
      "Epoch 38/50\n",
      "131/131 [==============================] - 34s 256ms/step - loss: 0.1350 - accuracy: 0.9484 - val_loss: 3.2966 - val_accuracy: 0.9569\n",
      "Epoch 39/50\n",
      "131/131 [==============================] - 34s 255ms/step - loss: 0.1533 - accuracy: 0.9491 - val_loss: 3.7740 - val_accuracy: 0.9521\n",
      "Epoch 40/50\n",
      "131/131 [==============================] - 33s 254ms/step - loss: 0.1375 - accuracy: 0.9475 - val_loss: 5.2702 - val_accuracy: 0.9598\n",
      "Epoch 41/50\n",
      "131/131 [==============================] - 34s 256ms/step - loss: 0.1262 - accuracy: 0.9545 - val_loss: 4.5021 - val_accuracy: 0.9511\n",
      "Epoch 42/50\n",
      "131/131 [==============================] - 34s 255ms/step - loss: 0.1431 - accuracy: 0.9516 - val_loss: 4.7851 - val_accuracy: 0.9579\n",
      "Epoch 43/50\n",
      "131/131 [==============================] - 33s 254ms/step - loss: 0.1220 - accuracy: 0.9526 - val_loss: 5.3293 - val_accuracy: 0.9540\n",
      "Epoch 44/50\n",
      "131/131 [==============================] - 34s 255ms/step - loss: 0.1263 - accuracy: 0.9494 - val_loss: 7.9968 - val_accuracy: 0.9377\n",
      "Epoch 45/50\n",
      "131/131 [==============================] - 34s 256ms/step - loss: 0.1385 - accuracy: 0.9453 - val_loss: 5.2290 - val_accuracy: 0.9617\n",
      "Epoch 46/50\n",
      "131/131 [==============================] - 34s 256ms/step - loss: 0.1279 - accuracy: 0.9548 - val_loss: 6.0512 - val_accuracy: 0.9521\n",
      "Epoch 47/50\n",
      "131/131 [==============================] - 34s 256ms/step - loss: 0.1124 - accuracy: 0.9564 - val_loss: 12.6338 - val_accuracy: 0.9444\n",
      "Epoch 48/50\n",
      "131/131 [==============================] - 34s 256ms/step - loss: 0.1399 - accuracy: 0.9462 - val_loss: 3.7162 - val_accuracy: 0.9646\n",
      "Epoch 49/50\n",
      "131/131 [==============================] - 34s 255ms/step - loss: 0.1479 - accuracy: 0.9448 - val_loss: 7.1143 - val_accuracy: 0.9502\n",
      "Epoch 50/50\n",
      "131/131 [==============================] - 34s 256ms/step - loss: 0.1362 - accuracy: 0.9517 - val_loss: 5.7388 - val_accuracy: 0.9521\n"
     ]
    }
   ],
   "source": [
    "history = model_convolution.fit(train_gen, batch_size=batch_size, epochs=epochs,validation_data=(X_valid, y_valid))"
   ]
  },
  {
   "cell_type": "code",
   "execution_count": 25,
   "metadata": {},
   "outputs": [
    {
     "name": "stdout",
     "output_type": "stream",
     "text": [
      "INFO:tensorflow:Assets written to: model_agmentation_2\\assets\n"
     ]
    }
   ],
   "source": [
    "model_convolution.save(\"model_agmentation_2\")\n",
    "np.save('model_agmentation_2_history.npy',history.history)"
   ]
  },
  {
   "cell_type": "code",
   "execution_count": 26,
   "metadata": {},
   "outputs": [
    {
     "name": "stdout",
     "output_type": "stream",
     "text": [
      "Model: \"sequential\"\n",
      "_________________________________________________________________\n",
      "Layer (type)                 Output Shape              Param #   \n",
      "=================================================================\n",
      "conv1 (Conv2D)               (None, 222, 222, 32)      320       \n",
      "_________________________________________________________________\n",
      "pool1 (MaxPooling2D)         (None, 111, 111, 32)      0         \n",
      "_________________________________________________________________\n",
      "conv2 (Conv2D)               (None, 109, 109, 64)      18496     \n",
      "_________________________________________________________________\n",
      "pool2 (MaxPooling2D)         (None, 54, 54, 64)        0         \n",
      "_________________________________________________________________\n",
      "flatten (Flatten)            (None, 186624)            0         \n",
      "_________________________________________________________________\n",
      "dropout (Dropout)            (None, 186624)            0         \n",
      "_________________________________________________________________\n",
      "Dense1 (Dense)               (None, 20)                3732500   \n",
      "_________________________________________________________________\n",
      "dropout_1 (Dropout)          (None, 20)                0         \n",
      "_________________________________________________________________\n",
      "dense (Dense)                (None, 2)                 42        \n",
      "=================================================================\n",
      "Total params: 3,751,358\n",
      "Trainable params: 3,751,358\n",
      "Non-trainable params: 0\n",
      "_________________________________________________________________\n"
     ]
    }
   ],
   "source": [
    "load_history=np.load('model_agmentation_2_history.npy',allow_pickle='TRUE').item()\n",
    "reconstructed_model = load_model(\"model_agmentation_2\")\n",
    "reconstructed_model.summary()"
   ]
  },
  {
   "cell_type": "code",
   "execution_count": 27,
   "metadata": {},
   "outputs": [
    {
     "data": {
      "image/png": "[encoded data removed]",
      "text/plain": [
       "<Figure size 1080x360 with 2 Axes>"
      ]
     },
     "metadata": {
      "needs_background": "light"
     },
     "output_type": "display_data"
    }
   ],
   "source": [
    "# plot model performance\n",
    "acc = load_history['accuracy']\n",
    "val_acc = load_history['val_accuracy']\n",
    "loss = load_history['loss']\n",
    "val_loss = load_history['val_loss']\n",
    "epochs_range = range(1, len(history.epoch) + 1)\n",
    "\n",
    "plt.figure(figsize=(15,5))\n",
    "\n",
    "plt.subplot(1, 2, 1)\n",
    "plt.plot(epochs_range, acc, label='Train Set')\n",
    "plt.plot(epochs_range, val_acc, label='Val Set')\n",
    "plt.legend(loc=\"best\")\n",
    "plt.xlabel('Epochs')\n",
    "plt.ylabel('Accuracy')\n",
    "plt.title('Model Accuracy')\n",
    "\n",
    "plt.subplot(1, 2, 2)\n",
    "plt.plot(epochs_range, loss, label='Train Set')\n",
    "plt.plot(epochs_range, val_loss, label='Val Set')\n",
    "plt.legend(loc=\"best\")\n",
    "plt.xlabel('Epochs')\n",
    "plt.ylabel('Loss')\n",
    "plt.title('Model Loss')\n",
    "\n",
    "plt.tight_layout()\n",
    "plt.show()"
   ]
  },
  {
   "cell_type": "code",
   "execution_count": 33,
   "metadata": {
    "code_folding": [
     0
    ]
   },
   "outputs": [],
   "source": [
    "#List of metric for classiffication models\n",
    "def metrics_classific(y, predicted, proba_predictions):\n",
    "    from sklearn.metrics import confusion_matrix, classification_report, precision_recall_curve, f1_score, auc\n",
    "    from matplotlib import pyplot\n",
    "    confusion_matrix = confusion_matrix(y, predicted)\n",
    "    print(confusion_matrix)\n",
    "    print(classification_report(y, predicted))\n",
    "    \n",
    "    # keep probabilities for the positive outcome only\n",
    "    lr_probs = proba_predictions[:, 1]\n",
    "    \n",
    "    # calculate precision and recall for each threshold\n",
    "    lr_precision, lr_recall, _ = precision_recall_curve(y, lr_probs)\n",
    "\n",
    "    # calculate scores\n",
    "    lr_f1, lr_auc = f1_score(y, predicted), auc(lr_recall, lr_precision)\n",
    "\n",
    "    # summarize scores\n",
    "    print('Logistic: f1=%.3f auc=%.3f' % (lr_f1, lr_auc))\n",
    "\n",
    "    #plot the precision-recall curves\n",
    "    no_skill = len(y[y == 1]) / len(y)\n",
    "    pyplot.plot([0, 1], [no_skill, no_skill], linestyle='--', label='No Skill')\n",
    "    pyplot.plot(lr_recall, lr_precision, marker='.', label='Logistic')\n",
    "    # axis labels\n",
    "    pyplot.xlabel('Recall')\n",
    "    pyplot.ylabel('Precision')\n",
    "    # show the legend\n",
    "    pyplot.legend()\n",
    "    # show the plot\n",
    "    pyplot.show()"
   ]
  },
  {
   "cell_type": "code",
   "execution_count": 47,
   "metadata": {},
   "outputs": [
    {
     "name": "stdout",
     "output_type": "stream",
     "text": [
      "[[168  66]\n",
      " [ 48 342]]\n",
      "              precision    recall  f1-score   support\n",
      "\n",
      "           0       0.78      0.72      0.75       234\n",
      "           1       0.84      0.88      0.86       390\n",
      "\n",
      "    accuracy                           0.82       624\n",
      "   macro avg       0.81      0.80      0.80       624\n",
      "weighted avg       0.82      0.82      0.82       624\n",
      "\n",
      "Logistic: f1=0.857 auc=0.940\n"
     ]
    },
    {
     "data": {
      "image/png": "[encoded data removed]",
      "text/plain": [
       "<Figure size 432x288 with 1 Axes>"
      ]
     },
     "metadata": {
      "needs_background": "light"
     },
     "output_type": "display_data"
    }
   ],
   "source": [
    "proba_predictions = reconstructed_model.predict(X_test)\n",
    "predictions = (prob_predictions[:,1] >=0.75).astype(int)\n",
    "\n",
    "y_test = df_test.label.values\n",
    "\n",
    "metrics_classific(y_test, predictions, proba_predictions)"
   ]
  },
  {
   "cell_type": "code",
   "execution_count": null,
   "metadata": {},
   "outputs": [],
   "source": []
  }
 ],
 "metadata": {
  "kernelspec": {
   "display_name": "Python 3 (ipykernel)",
   "language": "python",
   "name": "python3"
  },
  "language_info": {
   "codemirror_mode": {
    "name": "ipython",
    "version": 3
   },
   "file_extension": ".py",
   "mimetype": "text/x-python",
   "name": "python",
   "nbconvert_exporter": "python",
   "pygments_lexer": "ipython3",
   "version": "3.9.7"
  },
  "toc": {
   "base_numbering": 1,
   "nav_menu": {},
   "number_sections": true,
   "sideBar": true,
   "skip_h1_title": false,
   "title_cell": "Table of Contents",
   "title_sidebar": "Contents",
   "toc_cell": false,
   "toc_position": {},
   "toc_section_display": true,
   "toc_window_display": false
  }
 },
 "nbformat": 4,
 "nbformat_minor": 4
}
